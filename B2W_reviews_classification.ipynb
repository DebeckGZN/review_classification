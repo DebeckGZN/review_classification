{
  "nbformat": 4,
  "nbformat_minor": 0,
  "metadata": {
    "colab": {
      "name": "AEVO.ipynb",
      "provenance": [],
      "collapsed_sections": [],
      "mount_file_id": "1jkEUD0JmTPUI9Bep2VW8t4hTQDiWoMkQ",
      "authorship_tag": "ABX9TyPeYlhLfdURuSxTYhtlauRG",
      "include_colab_link": true
    },
    "kernelspec": {
      "name": "python3",
      "display_name": "Python 3"
    },
    "language_info": {
      "name": "python"
    }
  },
  "cells": [
    {
      "cell_type": "markdown",
      "metadata": {
        "id": "view-in-github",
        "colab_type": "text"
      },
      "source": [
        "<a href=\"https://colab.research.google.com/github/DebeckGZN/review_classification/blob/main/B2W_reviews_classification.ipynb\" target=\"_parent\"><img src=\"https://colab.research.google.com/assets/colab-badge.svg\" alt=\"Open In Colab\"/></a>"
      ]
    },
    {
      "cell_type": "markdown",
      "source": [
        "**Base de Dados: B2W Reviews**"
      ],
      "metadata": {
        "id": "r88YQRim4Yxm"
      }
    },
    {
      "cell_type": "markdown",
      "source": [
        "Leitura dos dados e identificação dos Headers"
      ],
      "metadata": {
        "id": "i-ac25Ejjrud"
      }
    },
    {
      "cell_type": "code",
      "source": [
        "import csv\n",
        "with open('B2W-Reviews01.csv', newline='') as csv_file:\n",
        "    \n",
        "    csv_reader = csv.DictReader(csv_file)\n",
        "    dict_from_csv = dict(list(csv_reader)[0])\n",
        "    headers = list(dict_from_csv.keys())\n",
        "\n",
        "print(headers)\n",
        "    "
      ],
      "metadata": {
        "colab": {
          "base_uri": "https://localhost:8080/"
        },
        "id": "QykXj3tgb6BZ",
        "outputId": "2e8f1827-e27f-49e3-d841-0902fcc0b006"
      },
      "execution_count": 244,
      "outputs": [
        {
          "output_type": "stream",
          "name": "stdout",
          "text": [
            "['submission_date', 'reviewer_id', 'product_id', 'product_name', 'product_brand', 'site_category_lv1', 'site_category_lv2', 'review_title', 'overall_rating', 'recommend_to_a_friend', 'review_text', 'reviewer_birth_year', 'reviewer_gender', 'reviewer_state']\n"
          ]
        }
      ]
    },
    {
      "cell_type": "markdown",
      "source": [
        "Selecionando apenas as Colunas de Interesse (Texto da Review e Nota)"
      ],
      "metadata": {
        "id": "Q9SMolQjj7Mz"
      }
    },
    {
      "cell_type": "code",
      "source": [
        "import pandas as pd\n",
        "\n",
        "df = pd.read_csv(\"B2W-Reviews01.csv\", usecols = ['review_text','overall_rating'])\n",
        "\n",
        "print('Dimensão original: ', len(df))\n",
        "df = df.dropna()\n",
        "\n",
        "raw_data_size = len(df)\n",
        "\n",
        "raw_reviews = list(df['review_text'])\n",
        "raw_score = list(df['overall_rating'])"
      ],
      "metadata": {
        "colab": {
          "base_uri": "https://localhost:8080/"
        },
        "id": "P4ucpeofeQQD",
        "outputId": "29f6d553-0584-43fa-c7e6-7ea6831e0d38"
      },
      "execution_count": 245,
      "outputs": [
        {
          "output_type": "stream",
          "name": "stdout",
          "text": [
            "Dimensão original:  132373\n"
          ]
        }
      ]
    },
    {
      "cell_type": "markdown",
      "source": [
        "**Visualizando os Dados**"
      ],
      "metadata": {
        "id": "_VJ_A0cHUXlB"
      }
    },
    {
      "cell_type": "code",
      "source": [
        "from random import randrange\n",
        "\n",
        "idx = randrange(raw_data_size)\n",
        "\n",
        "print(raw_reviews[idx], raw_score[idx])"
      ],
      "metadata": {
        "colab": {
          "base_uri": "https://localhost:8080/"
        },
        "id": "LUGq0mq5UNiY",
        "outputId": "05d637a2-a34b-494a-cbcd-fb3a38656ef6"
      },
      "execution_count": 246,
      "outputs": [
        {
          "output_type": "stream",
          "name": "stdout",
          "text": [
            "Produto nem minha casa chegou, como vou diZer que recomendo ? 1\n"
          ]
        }
      ]
    },
    {
      "cell_type": "markdown",
      "source": [
        "Scores"
      ],
      "metadata": {
        "id": "UE-noeWlqmge"
      }
    },
    {
      "cell_type": "code",
      "source": [
        "import matplotlib.pyplot as plt\n",
        "\n",
        "x = raw_score\n",
        "plt.hist(x, bins = 5, range=(1,5))\n",
        "plt.show()"
      ],
      "metadata": {
        "colab": {
          "base_uri": "https://localhost:8080/",
          "height": 265
        },
        "id": "A36MFwuEhF6R",
        "outputId": "fa725707-39f3-44aa-b6d7-16f8660c9de9"
      },
      "execution_count": 247,
      "outputs": [
        {
          "output_type": "display_data",
          "data": {
            "image/png": "[encoded data removed]",
            "text/plain": [
              "<Figure size 432x288 with 1 Axes>"
            ]
          },
          "metadata": {
            "needs_background": "light"
          }
        }
      ]
    },
    {
      "cell_type": "markdown",
      "source": [
        "Tamanho das Reviews (nº de palavras)"
      ],
      "metadata": {
        "id": "s3C60F_Qqunp"
      }
    },
    {
      "cell_type": "code",
      "source": [
        "review_len = []\n",
        "\n",
        "for rv in raw_reviews:\n",
        "    split_rv = rv.split(' ')\n",
        "    review_size = len(split_rv)\n",
        "    review_len.append(review_size)\n",
        "\n",
        "max_len = 0\n",
        "for i in review_len:\n",
        "  if i > max_len:\n",
        "    max_len = i\n",
        "\n",
        "print(max_len)\n",
        "idx = randrange(raw_data_size)\n",
        "print(raw_reviews[idx], review_len[idx])\n",
        "\n",
        "x = review_len\n",
        "plt.hist(x, bins = 25, range=(1,max_len))\n",
        "plt.show()"
      ],
      "metadata": {
        "colab": {
          "base_uri": "https://localhost:8080/",
          "height": 300
        },
        "id": "lsmzRIUPhIGT",
        "outputId": "3b91dbc4-968f-4272-92a3-f59ab6cf8719"
      },
      "execution_count": 248,
      "outputs": [
        {
          "output_type": "stream",
          "name": "stdout",
          "text": [
            "796\n",
            "Bom material, resolução bem definida. Satisfeita. Recomendaria a compra. 9\n"
          ]
        },
        {
          "output_type": "display_data",
          "data": {
            "image/png": "[encoded data removed]",
            "text/plain": [
              "<Figure size 432x288 with 1 Axes>"
            ]
          },
          "metadata": {
            "needs_background": "light"
          }
        }
      ]
    },
    {
      "cell_type": "markdown",
      "source": [
        "**Pré-Processamento**"
      ],
      "metadata": {
        "id": "N04Y7_rGhbfl"
      }
    },
    {
      "cell_type": "code",
      "source": [
        "## removemos reviews notas 3, por não serem totalmente positivas ou negativas\n",
        "df = df.drop(df[df.overall_rating == 3].index)\n",
        "df = df.drop(df[df.review_text.str.split().str.len() > 50].index)\n",
        "data_size = len(df)\n",
        "\n",
        "pred_sample_size = 1000\n",
        "predict_sample = df[-pred_sample_size:]\n",
        "\n",
        "df = df[:data_size - pred_sample_size]\n",
        "print('Dimensão pós filtros: ', data_size)\n",
        "\n",
        "reviews = list(df['review_text'])\n",
        "score = list(df['overall_rating'])"
      ],
      "metadata": {
        "colab": {
          "base_uri": "https://localhost:8080/"
        },
        "id": "YdzHZk_3hUrh",
        "outputId": "0640799b-ad36-4d47-c41c-1dca73930a46"
      },
      "execution_count": 249,
      "outputs": [
        {
          "output_type": "stream",
          "name": "stdout",
          "text": [
            "Dimensão pós filtros:  104209\n"
          ]
        }
      ]
    },
    {
      "cell_type": "markdown",
      "source": [
        "**Transformando Scores em Labels:**\n",
        "\n",
        "4-5: Positivo [1]\n",
        "\n",
        "1-2: Negativo [0]"
      ],
      "metadata": {
        "id": "iQcz5RSHh97E"
      }
    },
    {
      "cell_type": "code",
      "source": [
        "for i, n in enumerate(score):\n",
        "  if n >3:\n",
        "    score[i] = 1 ##Positivo\n",
        "  else:\n",
        "    score[i] = 0 ##Negativo\n"
      ],
      "metadata": {
        "id": "mxzOy6ICh8PP"
      },
      "execution_count": 250,
      "outputs": []
    },
    {
      "cell_type": "markdown",
      "source": [
        "**Visualização dos Dados pós processados**"
      ],
      "metadata": {
        "id": "us-qR7D0DT57"
      }
    },
    {
      "cell_type": "markdown",
      "source": [
        "Distribuição Positivo x Negativo"
      ],
      "metadata": {
        "id": "AMFS0YjDF5h7"
      }
    },
    {
      "cell_type": "code",
      "source": [
        "score_tag = []\n",
        "\n",
        "for i in score:\n",
        "  if i  == 1:\n",
        "    score_tag.append('Positivo')\n",
        "  else:\n",
        "    score_tag.append('Negativo')\n",
        "\n",
        "\n",
        "x = score_tag\n",
        "plt.hist(x, range=(0,1))\n",
        "plt.show()"
      ],
      "metadata": {
        "colab": {
          "base_uri": "https://localhost:8080/",
          "height": 265
        },
        "id": "kh6TSN77DZH0",
        "outputId": "fe686e42-9248-4226-ecfe-9771b2d08bdd"
      },
      "execution_count": 251,
      "outputs": [
        {
          "output_type": "display_data",
          "data": {
            "image/png": "[encoded data removed]",
            "text/plain": [
              "<Figure size 432x288 with 1 Axes>"
            ]
          },
          "metadata": {
            "needs_background": "light"
          }
        }
      ]
    },
    {
      "cell_type": "markdown",
      "source": [
        "Tamanho das Reviews\n",
        "\n"
      ],
      "metadata": {
        "id": "qGzK2EVQF9oh"
      }
    },
    {
      "cell_type": "code",
      "source": [
        "review_len = []\n",
        "\n",
        "for rv in reviews:\n",
        "  split_rv = rv.split(' ')\n",
        "  review_size = len(split_rv)\n",
        "  review_len.append(review_size)\n",
        "\n",
        "idx = randrange(data_size)\n",
        "print(reviews[idx], review_len[idx])\n",
        "\n",
        "x = review_len\n",
        "plt.hist(x, bins = 25, range=(1,50))\n",
        "plt.show()"
      ],
      "metadata": {
        "colab": {
          "base_uri": "https://localhost:8080/",
          "height": 282
        },
        "id": "Lox_R9X2Fyuc",
        "outputId": "f957c158-918a-4487-916f-4fdf91df92c1"
      },
      "execution_count": 252,
      "outputs": [
        {
          "output_type": "stream",
          "name": "stdout",
          "text": [
            "mercadoria foi enviada errada conforme o pedido  palheta fiat uno 93   trazeira  enviaram a dianteira  já pedi informação de como trocar  até agora não me informaram 32\n"
          ]
        },
        {
          "output_type": "display_data",
          "data": {
            "image/png": "[encoded data removed]",
            "text/plain": [
              "<Figure size 432x288 with 1 Axes>"
            ]
          },
          "metadata": {
            "needs_background": "light"
          }
        }
      ]
    },
    {
      "cell_type": "markdown",
      "source": [
        "Separando bases de Treino e Teste"
      ],
      "metadata": {
        "id": "ofJSbnN5YF0c"
      }
    },
    {
      "cell_type": "code",
      "source": [
        "from sklearn.model_selection import train_test_split\n",
        "\n",
        "training_sentences, testing_sentences, training_labels, testing_labels = train_test_split(reviews, score, test_size=0.2)"
      ],
      "metadata": {
        "id": "hZkvIZGgYJzg"
      },
      "execution_count": 253,
      "outputs": []
    },
    {
      "cell_type": "markdown",
      "source": [
        "Scores"
      ],
      "metadata": {
        "id": "7UxYLiusq1ei"
      }
    },
    {
      "cell_type": "code",
      "source": [
        "score_tag = []\n",
        "print('Treino')\n",
        "for i in training_labels:\n",
        "  if i  == 1:\n",
        "    score_tag.append('Positivo')\n",
        "  else:\n",
        "    score_tag.append('Negativo')\n",
        "\n",
        "x = score_tag\n",
        "plt.hist(x)\n",
        "plt.show()\n",
        "\n",
        "score_tag = []\n",
        "print('Teste')\n",
        "for i in testing_labels:\n",
        "  if i  == 1:\n",
        "    score_tag.append('Positivo')\n",
        "  else:\n",
        "    score_tag.append('Negativo')\n",
        "\n",
        "x = score_tag\n",
        "plt.hist(x)\n",
        "plt.show()"
      ],
      "metadata": {
        "colab": {
          "base_uri": "https://localhost:8080/",
          "height": 548
        },
        "id": "22Oz1Mq3ZGxK",
        "outputId": "879e4981-a34b-4137-e54f-a973ddf1a9dd"
      },
      "execution_count": 254,
      "outputs": [
        {
          "output_type": "stream",
          "name": "stdout",
          "text": [
            "Treino\n"
          ]
        },
        {
          "output_type": "display_data",
          "data": {
            "image/png": "[encoded data removed]",
            "text/plain": [
              "<Figure size 432x288 with 1 Axes>"
            ]
          },
          "metadata": {
            "needs_background": "light"
          }
        },
        {
          "output_type": "stream",
          "name": "stdout",
          "text": [
            "Teste\n"
          ]
        },
        {
          "output_type": "display_data",
          "data": {
            "image/png": "[encoded data removed]",
            "text/plain": [
              "<Figure size 432x288 with 1 Axes>"
            ]
          },
          "metadata": {
            "needs_background": "light"
          }
        }
      ]
    },
    {
      "cell_type": "markdown",
      "source": [
        "Tamanho das Reviews"
      ],
      "metadata": {
        "id": "96ptKHxbq3VA"
      }
    },
    {
      "cell_type": "code",
      "source": [
        "review_len = []\n",
        "print('Treino')\n",
        "for rv in training_sentences:\n",
        "  split_rv = rv.split(' ')\n",
        "  review_len.append(len(split_rv))\n",
        "\n",
        "x = review_len\n",
        "plt.hist(x, bins = 25, range=(1,50))\n",
        "plt.show()\n",
        "\n",
        "review_len = []\n",
        "print('Teste')\n",
        "for rv in testing_sentences:\n",
        "  split_rv = rv.split(' ')\n",
        "  review_len.append(len(split_rv))\n",
        "\n",
        "x = review_len\n",
        "plt.hist(x, bins = 25, range=(1,50))\n",
        "plt.show()"
      ],
      "metadata": {
        "colab": {
          "base_uri": "https://localhost:8080/",
          "height": 548
        },
        "id": "NO6v97UVZI41",
        "outputId": "c3f189e6-2910-444b-ffb3-51423abcf696"
      },
      "execution_count": 255,
      "outputs": [
        {
          "output_type": "stream",
          "name": "stdout",
          "text": [
            "Treino\n"
          ]
        },
        {
          "output_type": "display_data",
          "data": {
            "image/png": "[encoded data removed]",
            "text/plain": [
              "<Figure size 432x288 with 1 Axes>"
            ]
          },
          "metadata": {
            "needs_background": "light"
          }
        },
        {
          "output_type": "stream",
          "name": "stdout",
          "text": [
            "Teste\n"
          ]
        },
        {
          "output_type": "display_data",
          "data": {
            "image/png": "[encoded data removed]",
            "text/plain": [
              "<Figure size 432x288 with 1 Axes>"
            ]
          },
          "metadata": {
            "needs_background": "light"
          }
        }
      ]
    },
    {
      "cell_type": "markdown",
      "source": [
        "**Tensorflow Libraries**"
      ],
      "metadata": {
        "id": "aCfYIQID9RMH"
      }
    },
    {
      "cell_type": "code",
      "source": [
        "import tensorflow as tf\n",
        "from tensorflow import keras\n",
        "from keras.callbacks import EarlyStopping\n",
        "\n",
        "from tensorflow.keras.preprocessing.text import Tokenizer\n",
        "from tensorflow.keras.preprocessing.sequence import pad_sequences\n",
        "\n",
        "from tensorflow.keras.models import Sequential"
      ],
      "metadata": {
        "id": "6HV8B7-49O0M"
      },
      "execution_count": 256,
      "outputs": []
    },
    {
      "cell_type": "markdown",
      "source": [
        "**Tokenização**\n",
        "\n",
        "Dividindo as sentenças em palavras (tokens) e atribuindo um valor numérico"
      ],
      "metadata": {
        "id": "kqYyPtVSyu7q"
      }
    },
    {
      "cell_type": "code",
      "execution_count": 257,
      "metadata": {
        "id": "jFFBa8tYoriQ",
        "colab": {
          "base_uri": "https://localhost:8080/"
        },
        "outputId": "30ed451b-6ce7-4de1-f3a9-bdd324186212"
      },
      "outputs": [
        {
          "output_type": "stream",
          "name": "stdout",
          "text": [
            "34234\n"
          ]
        }
      ],
      "source": [
        "## Tokenizer se aplica apenas a base de Treino\n",
        "tokenizer = Tokenizer(num_words=5000, oov_token=\"<OOV>\")\n",
        "tokenizer.fit_on_texts(training_sentences)\n",
        "word_index = tokenizer.word_index\n",
        "print(len(word_index))"
      ]
    },
    {
      "cell_type": "markdown",
      "source": [
        "Padding e crianção das Sequências"
      ],
      "metadata": {
        "id": "DqgOmbqkyyeS"
      }
    },
    {
      "cell_type": "code",
      "source": [
        "training_sequences = tokenizer.texts_to_sequences(training_sentences)\n",
        "training_padded = pad_sequences(training_sequences, padding='post', maxlen=50)\n",
        "\n",
        "testing_sequences = tokenizer.texts_to_sequences(testing_sentences)\n",
        "testing_padded = pad_sequences(testing_sequences, padding='post', maxlen=50)\n"
      ],
      "metadata": {
        "id": "KDkAtvr68558"
      },
      "execution_count": 258,
      "outputs": []
    },
    {
      "cell_type": "markdown",
      "source": [
        "Visualizando as Sequências"
      ],
      "metadata": {
        "id": "e2zptiDUrEn5"
      }
    },
    {
      "cell_type": "code",
      "source": [
        "keys = list(word_index.keys())\n",
        "values = list(word_index.values())\n",
        "\n",
        "idx = randrange(len(training_sequences))\n",
        "\n",
        "ex_sentence = ''\n",
        "\n",
        "for i in training_sequences[idx]:\n",
        "  ex_sentence += ' ' + keys[values.index(i)]\n",
        "\n",
        "print(ex_sentence, training_labels[idx])\n"
      ],
      "metadata": {
        "colab": {
          "base_uri": "https://localhost:8080/"
        },
        "id": "rfctjSEwLiBu",
        "outputId": "cc29e7d4-20c2-4662-c15c-36b031b53307"
      },
      "execution_count": 265,
      "outputs": [
        {
          "output_type": "stream",
          "name": "stdout",
          "text": [
            " adorei e fica bem <OOV> para o ambiente recomendo 1\n"
          ]
        }
      ]
    },
    {
      "cell_type": "markdown",
      "source": [
        "Formatação para Treinamento"
      ],
      "metadata": {
        "id": "H34GIMCcbcZS"
      }
    },
    {
      "cell_type": "code",
      "source": [
        "import numpy as np\n",
        "\n",
        "training_padded = np.array(training_padded)\n",
        "training_labels = np.array(training_labels)\n",
        "testing_padded = np.array(testing_padded)\n",
        "testing_labels = np.array(testing_labels)"
      ],
      "metadata": {
        "id": "Ymd79pLGbYLf"
      },
      "execution_count": 266,
      "outputs": []
    },
    {
      "cell_type": "markdown",
      "source": [
        "Criação do Modelo"
      ],
      "metadata": {
        "id": "HMDzJ6pWrHau"
      }
    },
    {
      "cell_type": "code",
      "source": [
        "vocab_size = 5000\n",
        "embedding_dim = 16\n",
        "max_length = 50\n",
        "model = tf.keras.Sequential([\n",
        "    tf.keras.layers.Embedding(vocab_size, embedding_dim, input_length=max_length),\n",
        "    tf.keras.layers.GlobalAveragePooling1D(),\n",
        "    tf.keras.layers.Dense(256, \n",
        "                          kernel_regularizer=tf.keras.regularizers.l1(0.01), \n",
        "                          activity_regularizer=tf.keras.regularizers.l2(0.01),\n",
        "                          activation='relu'),\n",
        "    tf.keras.layers.Dense(1, activation='sigmoid')\n",
        "])\n",
        "\n",
        "model.compile(loss='binary_crossentropy',optimizer='adam', metrics=['accuracy'])\n",
        "model.summary()"
      ],
      "metadata": {
        "id": "tG2qhkYFZPcn",
        "colab": {
          "base_uri": "https://localhost:8080/"
        },
        "outputId": "1eba6e31-7a40-4099-ede1-755f3a8b3474"
      },
      "execution_count": 268,
      "outputs": [
        {
          "output_type": "stream",
          "name": "stdout",
          "text": [
            "Model: \"sequential_13\"\n",
            "_________________________________________________________________\n",
            " Layer (type)                Output Shape              Param #   \n",
            "=================================================================\n",
            " embedding_13 (Embedding)    (None, 50, 16)            80000     \n",
            "                                                                 \n",
            " global_average_pooling1d_13  (None, 16)               0         \n",
            "  (GlobalAveragePooling1D)                                       \n",
            "                                                                 \n",
            " dense_26 (Dense)            (None, 256)               4352      \n",
            "                                                                 \n",
            " dense_27 (Dense)            (None, 1)                 257       \n",
            "                                                                 \n",
            "=================================================================\n",
            "Total params: 84,609\n",
            "Trainable params: 84,609\n",
            "Non-trainable params: 0\n",
            "_________________________________________________________________\n"
          ]
        }
      ]
    },
    {
      "cell_type": "markdown",
      "source": [
        "Treinamento"
      ],
      "metadata": {
        "id": "YovTwWEerMBi"
      }
    },
    {
      "cell_type": "code",
      "source": [
        "num_epochs = 100\n",
        "es = EarlyStopping(monitor='val_loss', patience = 10, restore_best_weights=True, verbose=1)\n",
        "history = model.fit(training_padded, training_labels, epochs=num_epochs, validation_data=(testing_padded, testing_labels), verbose=1, callbacks=[es])"
      ],
      "metadata": {
        "colab": {
          "base_uri": "https://localhost:8080/"
        },
        "id": "vO5vnMfHboDz",
        "outputId": "96a284a0-361b-4184-a714-01a93438db9b"
      },
      "execution_count": 269,
      "outputs": [
        {
          "output_type": "stream",
          "name": "stdout",
          "text": [
            "Epoch 1/100\n",
            "2581/2581 [==============================] - 10s 4ms/step - loss: 0.6513 - accuracy: 0.7300 - val_loss: 0.5896 - val_accuracy: 0.7301\n",
            "Epoch 2/100\n",
            "2581/2581 [==============================] - 9s 4ms/step - loss: 0.4671 - accuracy: 0.7999 - val_loss: 0.3324 - val_accuracy: 0.8922\n",
            "Epoch 3/100\n",
            "2581/2581 [==============================] - 9s 4ms/step - loss: 0.2837 - accuracy: 0.9164 - val_loss: 0.2500 - val_accuracy: 0.9275\n",
            "Epoch 4/100\n",
            "2581/2581 [==============================] - 9s 3ms/step - loss: 0.2345 - accuracy: 0.9326 - val_loss: 0.2217 - val_accuracy: 0.9323\n",
            "Epoch 5/100\n",
            "2581/2581 [==============================] - 9s 3ms/step - loss: 0.2115 - accuracy: 0.9399 - val_loss: 0.2049 - val_accuracy: 0.9378\n",
            "Epoch 6/100\n",
            "2581/2581 [==============================] - 8s 3ms/step - loss: 0.1977 - accuracy: 0.9447 - val_loss: 0.1976 - val_accuracy: 0.9418\n",
            "Epoch 7/100\n",
            "2581/2581 [==============================] - 8s 3ms/step - loss: 0.1873 - accuracy: 0.9471 - val_loss: 0.1879 - val_accuracy: 0.9439\n",
            "Epoch 8/100\n",
            "2581/2581 [==============================] - 9s 3ms/step - loss: 0.1796 - accuracy: 0.9493 - val_loss: 0.1817 - val_accuracy: 0.9442\n",
            "Epoch 9/100\n",
            "2581/2581 [==============================] - 9s 4ms/step - loss: 0.1734 - accuracy: 0.9512 - val_loss: 0.1781 - val_accuracy: 0.9453\n",
            "Epoch 10/100\n",
            "2581/2581 [==============================] - 9s 3ms/step - loss: 0.1687 - accuracy: 0.9525 - val_loss: 0.1752 - val_accuracy: 0.9445\n",
            "Epoch 11/100\n",
            "2581/2581 [==============================] - 10s 4ms/step - loss: 0.1646 - accuracy: 0.9540 - val_loss: 0.1721 - val_accuracy: 0.9464\n",
            "Epoch 12/100\n",
            "2581/2581 [==============================] - 9s 3ms/step - loss: 0.1608 - accuracy: 0.9543 - val_loss: 0.1698 - val_accuracy: 0.9462\n",
            "Epoch 13/100\n",
            "2581/2581 [==============================] - 9s 4ms/step - loss: 0.1575 - accuracy: 0.9559 - val_loss: 0.1671 - val_accuracy: 0.9469\n",
            "Epoch 14/100\n",
            "2581/2581 [==============================] - 8s 3ms/step - loss: 0.1548 - accuracy: 0.9566 - val_loss: 0.1653 - val_accuracy: 0.9472\n",
            "Epoch 15/100\n",
            "2581/2581 [==============================] - 9s 4ms/step - loss: 0.1522 - accuracy: 0.9572 - val_loss: 0.1637 - val_accuracy: 0.9476\n",
            "Epoch 16/100\n",
            "2581/2581 [==============================] - 9s 4ms/step - loss: 0.1499 - accuracy: 0.9576 - val_loss: 0.1644 - val_accuracy: 0.9481\n",
            "Epoch 17/100\n",
            "2581/2581 [==============================] - 10s 4ms/step - loss: 0.1480 - accuracy: 0.9587 - val_loss: 0.1622 - val_accuracy: 0.9470\n",
            "Epoch 18/100\n",
            "2581/2581 [==============================] - 9s 3ms/step - loss: 0.1462 - accuracy: 0.9583 - val_loss: 0.1609 - val_accuracy: 0.9478\n",
            "Epoch 19/100\n",
            "2581/2581 [==============================] - 9s 3ms/step - loss: 0.1446 - accuracy: 0.9590 - val_loss: 0.1620 - val_accuracy: 0.9469\n",
            "Epoch 20/100\n",
            "2581/2581 [==============================] - 9s 3ms/step - loss: 0.1428 - accuracy: 0.9594 - val_loss: 0.1604 - val_accuracy: 0.9487\n",
            "Epoch 21/100\n",
            "2581/2581 [==============================] - 9s 4ms/step - loss: 0.1416 - accuracy: 0.9596 - val_loss: 0.1591 - val_accuracy: 0.9474\n",
            "Epoch 22/100\n",
            "2581/2581 [==============================] - 8s 3ms/step - loss: 0.1402 - accuracy: 0.9600 - val_loss: 0.1601 - val_accuracy: 0.9486\n",
            "Epoch 23/100\n",
            "2581/2581 [==============================] - 9s 4ms/step - loss: 0.1390 - accuracy: 0.9605 - val_loss: 0.1595 - val_accuracy: 0.9484\n",
            "Epoch 24/100\n",
            "2581/2581 [==============================] - 9s 3ms/step - loss: 0.1375 - accuracy: 0.9611 - val_loss: 0.1592 - val_accuracy: 0.9479\n",
            "Epoch 25/100\n",
            "2581/2581 [==============================] - 8s 3ms/step - loss: 0.1366 - accuracy: 0.9610 - val_loss: 0.1594 - val_accuracy: 0.9487\n",
            "Epoch 26/100\n",
            "2581/2581 [==============================] - 9s 3ms/step - loss: 0.1356 - accuracy: 0.9614 - val_loss: 0.1589 - val_accuracy: 0.9487\n",
            "Epoch 27/100\n",
            "2581/2581 [==============================] - 8s 3ms/step - loss: 0.1346 - accuracy: 0.9620 - val_loss: 0.1584 - val_accuracy: 0.9468\n",
            "Epoch 28/100\n",
            "2581/2581 [==============================] - 9s 4ms/step - loss: 0.1336 - accuracy: 0.9620 - val_loss: 0.1591 - val_accuracy: 0.9485\n",
            "Epoch 29/100\n",
            "2581/2581 [==============================] - 9s 3ms/step - loss: 0.1331 - accuracy: 0.9622 - val_loss: 0.1578 - val_accuracy: 0.9475\n",
            "Epoch 30/100\n",
            "2581/2581 [==============================] - 9s 4ms/step - loss: 0.1320 - accuracy: 0.9626 - val_loss: 0.1589 - val_accuracy: 0.9475\n",
            "Epoch 31/100\n",
            "2581/2581 [==============================] - 9s 4ms/step - loss: 0.1313 - accuracy: 0.9627 - val_loss: 0.1586 - val_accuracy: 0.9478\n",
            "Epoch 32/100\n",
            "2581/2581 [==============================] - 9s 4ms/step - loss: 0.1306 - accuracy: 0.9630 - val_loss: 0.1581 - val_accuracy: 0.9479\n",
            "Epoch 33/100\n",
            "2581/2581 [==============================] - 9s 3ms/step - loss: 0.1297 - accuracy: 0.9633 - val_loss: 0.1591 - val_accuracy: 0.9477\n",
            "Epoch 34/100\n",
            "2581/2581 [==============================] - 8s 3ms/step - loss: 0.1291 - accuracy: 0.9632 - val_loss: 0.1582 - val_accuracy: 0.9473\n",
            "Epoch 35/100\n",
            "2581/2581 [==============================] - 9s 3ms/step - loss: 0.1283 - accuracy: 0.9634 - val_loss: 0.1583 - val_accuracy: 0.9478\n",
            "Epoch 36/100\n",
            "2581/2581 [==============================] - 9s 4ms/step - loss: 0.1279 - accuracy: 0.9637 - val_loss: 0.1577 - val_accuracy: 0.9474\n",
            "Epoch 37/100\n",
            "2581/2581 [==============================] - 9s 4ms/step - loss: 0.1273 - accuracy: 0.9637 - val_loss: 0.1596 - val_accuracy: 0.9471\n",
            "Epoch 38/100\n",
            "2581/2581 [==============================] - 9s 4ms/step - loss: 0.1267 - accuracy: 0.9641 - val_loss: 0.1585 - val_accuracy: 0.9475\n",
            "Epoch 39/100\n",
            "2581/2581 [==============================] - 8s 3ms/step - loss: 0.1261 - accuracy: 0.9642 - val_loss: 0.1617 - val_accuracy: 0.9458\n",
            "Epoch 40/100\n",
            "2581/2581 [==============================] - 8s 3ms/step - loss: 0.1255 - accuracy: 0.9645 - val_loss: 0.1604 - val_accuracy: 0.9460\n",
            "Epoch 41/100\n",
            "2581/2581 [==============================] - 8s 3ms/step - loss: 0.1251 - accuracy: 0.9645 - val_loss: 0.1583 - val_accuracy: 0.9469\n",
            "Epoch 42/100\n",
            "2581/2581 [==============================] - 9s 3ms/step - loss: 0.1248 - accuracy: 0.9646 - val_loss: 0.1582 - val_accuracy: 0.9474\n",
            "Epoch 43/100\n",
            "2581/2581 [==============================] - 9s 4ms/step - loss: 0.1243 - accuracy: 0.9645 - val_loss: 0.1601 - val_accuracy: 0.9472\n",
            "Epoch 44/100\n",
            "2581/2581 [==============================] - 9s 3ms/step - loss: 0.1239 - accuracy: 0.9646 - val_loss: 0.1621 - val_accuracy: 0.9457\n",
            "Epoch 45/100\n",
            "2581/2581 [==============================] - 9s 4ms/step - loss: 0.1235 - accuracy: 0.9648 - val_loss: 0.1599 - val_accuracy: 0.9468\n",
            "Epoch 46/100\n",
            "2574/2581 [============================>.] - ETA: 0s - loss: 0.1232 - accuracy: 0.9649Restoring model weights from the end of the best epoch: 36.\n",
            "2581/2581 [==============================] - 9s 3ms/step - loss: 0.1230 - accuracy: 0.9650 - val_loss: 0.1622 - val_accuracy: 0.9458\n",
            "Epoch 00046: early stopping\n"
          ]
        }
      ]
    },
    {
      "cell_type": "markdown",
      "source": [
        "Desempenho do modelo"
      ],
      "metadata": {
        "id": "i3GkorVirTu2"
      }
    },
    {
      "cell_type": "code",
      "source": [
        "def plot_graphs(history, string):\n",
        "  plt.plot(history.history[string])\n",
        "  plt.plot(history.history['val_'+string])\n",
        "  plt.xlabel(\"Epochs\")\n",
        "  plt.ylabel(string)\n",
        "  plt.legend([string, 'val_'+string])\n",
        "  plt.show()\n",
        "  \n",
        "plot_graphs(history, \"accuracy\")\n",
        "plot_graphs(history, \"loss\")"
      ],
      "metadata": {
        "colab": {
          "base_uri": "https://localhost:8080/",
          "height": 543
        },
        "id": "3Axnh3FpiPSw",
        "outputId": "d6908969-c766-44e3-ff57-5d3d70e79053"
      },
      "execution_count": 159,
      "outputs": [
        {
          "output_type": "display_data",
          "data": {
            "image/png": "[encoded data removed]",
            "text/plain": [
              "<Figure size 432x288 with 1 Axes>"
            ]
          },
          "metadata": {
            "needs_background": "light"
          }
        },
        {
          "output_type": "display_data",
          "data": {
            "image/png": "[encoded data removed]",
            "text/plain": [
              "<Figure size 432x288 with 1 Axes>"
            ]
          },
          "metadata": {
            "needs_background": "light"
          }
        }
      ]
    },
    {
      "cell_type": "markdown",
      "source": [
        "Predição"
      ],
      "metadata": {
        "id": "HJuFPpXnrdUK"
      }
    },
    {
      "cell_type": "code",
      "source": [
        "sample_sentences = list(predict_sample['review_text'])\n",
        "sample_scores = list(predict_sample['overall_rating'])\n",
        "\n",
        "sequences = tokenizer.texts_to_sequences(sample_sentences)\n",
        "padded = pad_sequences(sequences, padding='post', maxlen=50,truncating='post')\n",
        "\n",
        "predictions = model.predict(padded)\n",
        "\n",
        "idx = randrange(len(sample_sentences))\n",
        "\n",
        "pred = predictions[idx]\n",
        "sentence = sample_sentences[idx]\n",
        "score = sample_scores[idx]\n",
        "\n",
        "print(sentence, score, pred)"
      ],
      "metadata": {
        "colab": {
          "base_uri": "https://localhost:8080/"
        },
        "id": "RuiA8-czKIrR",
        "outputId": "010dd449-b26c-4d68-d65b-656f91592704"
      },
      "execution_count": 163,
      "outputs": [
        {
          "output_type": "stream",
          "name": "stdout",
          "text": [
            "Gostei muito e recomendo. Tv muito boa  , superou minha expectativa. Foi difícil achar uma boa tv com 28polegadas. Quem comprar não vai se arrepender. 5 [0.9995009]\n"
          ]
        }
      ]
    },
    {
      "cell_type": "markdown",
      "source": [
        "**Outliers**"
      ],
      "metadata": {
        "id": "u2Mx4rMnYwEW"
      }
    },
    {
      "cell_type": "code",
      "source": [
        "outliers = []\n",
        "\n",
        "for lines in range(len(predictions)):\n",
        "    s = sample_scores[lines]\n",
        "    p = predictions[lines]\n",
        "    st = sample_sentences[lines]\n",
        "\n",
        "    if s>3:\n",
        "      if p<0.5:\n",
        "        outliers.append([st, s, p[0]])\n",
        "    else:\n",
        "      if p>0.5:\n",
        "        outliers.append([st, s, p[0]])\n",
        "\n",
        "print(len(outliers))\n",
        "\n",
        "idx = randrange(len(outliers))\n",
        "\n",
        "print(outliers[idx][0],outliers[idx][1],outliers[idx][2])\n"
      ],
      "metadata": {
        "colab": {
          "base_uri": "https://localhost:8080/"
        },
        "id": "hvYfUO-EiPov",
        "outputId": "9125bf1d-505d-4e9e-bfdf-764e7b8cb7e1"
      },
      "execution_count": 165,
      "outputs": [
        {
          "output_type": "stream",
          "name": "stdout",
          "text": [
            "48\n",
            "Quero alertar a todos os consumidores a não comprarem nenhum produto da parceira avalanche shop, e uma empresa picareta, que recebe o pagamento em dinheiro e quando a compra e cancelada só devolve se for pela justiça. Att. Jules 5 0.016206563\n"
          ]
        }
      ]
    }
  ]
}