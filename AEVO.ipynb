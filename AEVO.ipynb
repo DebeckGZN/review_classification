{
  "nbformat": 4,
  "nbformat_minor": 0,
  "metadata": {
    "colab": {
      "name": "AEVO.ipynb",
      "provenance": [],
      "collapsed_sections": [],
      "mount_file_id": "1jkEUD0JmTPUI9Bep2VW8t4hTQDiWoMkQ",
      "authorship_tag": "ABX9TyP/cNCxLImASUPbAo/A+Vxu",
      "include_colab_link": true
    },
    "kernelspec": {
      "name": "python3",
      "display_name": "Python 3"
    },
    "language_info": {
      "name": "python"
    }
  },
  "cells": [
    {
      "cell_type": "markdown",
      "metadata": {
        "id": "view-in-github",
        "colab_type": "text"
      },
      "source": [
        "<a href=\"https://colab.research.google.com/github/DebeckGZN/review_classification/blob/main/AEVO.ipynb\" target=\"_parent\"><img src=\"https://colab.research.google.com/assets/colab-badge.svg\" alt=\"Open In Colab\"/></a>"
      ]
    },
    {
      "cell_type": "markdown",
      "source": [
        "**Base de Dados: B2W Reviews**"
      ],
      "metadata": {
        "id": "r88YQRim4Yxm"
      }
    },
    {
      "cell_type": "markdown",
      "source": [
        "Leitura dos dados e identificação dos Headers"
      ],
      "metadata": {
        "id": "i-ac25Ejjrud"
      }
    },
    {
      "cell_type": "code",
      "source": [
        "import csv\n",
        "with open('B2W-Reviews01.csv', newline='') as csv_file:\n",
        "    \n",
        "    csv_reader = csv.DictReader(csv_file)\n",
        "    dict_from_csv = dict(list(csv_reader)[0])\n",
        "    headers = list(dict_from_csv.keys())\n",
        "\n",
        "print(headers)\n",
        "    "
      ],
      "metadata": {
        "colab": {
          "base_uri": "https://localhost:8080/"
        },
        "id": "QykXj3tgb6BZ",
        "outputId": "2e8f1827-e27f-49e3-d841-0902fcc0b006"
      },
      "execution_count": 244,
      "outputs": [
        {
          "output_type": "stream",
          "name": "stdout",
          "text": [
            "['submission_date', 'reviewer_id', 'product_id', 'product_name', 'product_brand', 'site_category_lv1', 'site_category_lv2', 'review_title', 'overall_rating', 'recommend_to_a_friend', 'review_text', 'reviewer_birth_year', 'reviewer_gender', 'reviewer_state']\n"
          ]
        }
      ]
    },
    {
      "cell_type": "markdown",
      "source": [
        "Selecionando apenas as Colunas de Interesse (Texto da Review e Nota)"
      ],
      "metadata": {
        "id": "Q9SMolQjj7Mz"
      }
    },
    {
      "cell_type": "code",
      "source": [
        "import pandas as pd\n",
        "\n",
        "df = pd.read_csv(\"B2W-Reviews01.csv\", usecols = ['review_text','overall_rating'])\n",
        "\n",
        "print('Dimensão original: ', len(df))\n",
        "df = df.dropna()\n",
        "\n",
        "raw_data_size = len(df)\n",
        "\n",
        "raw_reviews = list(df['review_text'])\n",
        "raw_score = list(df['overall_rating'])"
      ],
      "metadata": {
        "colab": {
          "base_uri": "https://localhost:8080/"
        },
        "id": "P4ucpeofeQQD",
        "outputId": "29f6d553-0584-43fa-c7e6-7ea6831e0d38"
      },
      "execution_count": 245,
      "outputs": [
        {
          "output_type": "stream",
          "name": "stdout",
          "text": [
            "Dimensão original:  132373\n"
          ]
        }
      ]
    },
    {
      "cell_type": "markdown",
      "source": [
        "**Visualizando os Dados**"
      ],
      "metadata": {
        "id": "_VJ_A0cHUXlB"
      }
    },
    {
      "cell_type": "code",
      "source": [
        "from random import randrange\n",
        "\n",
        "idx = randrange(raw_data_size)\n",
        "\n",
        "print(raw_reviews[idx], raw_score[idx])"
      ],
      "metadata": {
        "colab": {
          "base_uri": "https://localhost:8080/"
        },
        "id": "LUGq0mq5UNiY",
        "outputId": "05d637a2-a34b-494a-cbcd-fb3a38656ef6"
      },
      "execution_count": 246,
      "outputs": [
        {
          "output_type": "stream",
          "name": "stdout",
          "text": [
            "Produto nem minha casa chegou, como vou diZer que recomendo ? 1\n"
          ]
        }
      ]
    },
    {
      "cell_type": "markdown",
      "source": [
        "Scores"
      ],
      "metadata": {
        "id": "UE-noeWlqmge"
      }
    },
    {
      "cell_type": "code",
      "source": [
        "import matplotlib.pyplot as plt\n",
        "\n",
        "x = raw_score\n",
        "plt.hist(x, bins = 5, range=(1,5))\n",
        "plt.show()"
      ],
      "metadata": {
        "colab": {
          "base_uri": "https://localhost:8080/",
          "height": 265
        },
        "id": "A36MFwuEhF6R",
        "outputId": "fa725707-39f3-44aa-b6d7-16f8660c9de9"
      },
      "execution_count": 247,
      "outputs": [
        {
          "output_type": "display_data",
          "data": {
            "image/png": "[encoded data removed]",
            "text/plain": [
              "<Figure size 432x288 with 1 Axes>"
            ]
          },
          "metadata": {
            "needs_background": "light"
          }
        }
      ]
    },
    {
      "cell_type": "markdown",
      "source": [
        "Tamanho das Reviews (nº de palavras)"
      ],
      "metadata": {
        "id": "s3C60F_Qqunp"
      }
    },
    {
      "cell_type": "code",
      "source": [
        "review_len = []\n",
        "\n",
        "for rv in raw_reviews:\n",
        "    split_rv = rv.split(' ')\n",
        "    review_size = len(split_rv)\n",
        "    review_len.append(review_size)\n",
        "\n",
        "max_len = 0\n",
        "for i in review_len:\n",
        "  if i > max_len:\n",
        "    max_len = i\n",
        "\n",
        "print(max_len)\n",
        "idx = randrange(raw_data_size)\n",
        "print(raw_reviews[idx], review_len[idx])\n",
        "\n",
        "x = review_len\n",
        "plt.hist(x, bins = 25, range=(1,max_len))\n",
        "plt.show()"
      ],
      "metadata": {
        "colab": {
          "base_uri": "https://localhost:8080/",
          "height": 300
        },
        "id": "lsmzRIUPhIGT",
        "outputId": "3b91dbc4-968f-4272-92a3-f59ab6cf8719"
      },
      "execution_count": 248,
      "outputs": [
        {
          "output_type": "stream",
          "name": "stdout",
          "text": [
            "796\n",
            "Bom material, resolução bem definida. Satisfeita. Recomendaria a compra. 9\n"
          ]
        },
        {
          "output_type": "display_data",
          "data": {
            "image/png": "[encoded data removed]",
            "text/plain": [
              "<Figure size 432x288 with 1 Axes>"
            ]
          },
          "metadata": {
            "needs_background": "light"
          }
        }
      ]
    },
    {
      "cell_type": "markdown",
      "source": [
        "**Pré-Processamento**"
      ],
      "metadata": {
        "id": "N04Y7_rGhbfl"
      }
    },
    {
      "cell_type": "code",
      "source": [
        "## removemos reviews notas 3, por não serem totalmente positivas ou negativas\n",
        "df = df.drop(df[df.overall_rating == 3].index)\n",
        "df = df.drop(df[df.review_text.str.split().str.len() > 50].index)\n",
        "data_size = len(df)\n",
        "\n",
        "pred_sample_size = 1000\n",
        "predict_sample = df[-pred_sample_size:]\n",
        "\n",
        "df = df[:data_size - pred_sample_size]\n",
        "print('Dimensão pós filtros: ', data_size)\n",
        "\n",
        "reviews = list(df['review_text'])\n",
        "score = list(df['overall_rating'])"
      ],
      "metadata": {
        "colab": {
          "base_uri": "https://localhost:8080/"
        },
        "id": "YdzHZk_3hUrh",
        "outputId": "0640799b-ad36-4d47-c41c-1dca73930a46"
      },
      "execution_count": 249,
      "outputs": [
        {
          "output_type": "stream",
          "name": "stdout",
          "text": [
            "Dimensão pós filtros:  104209\n"
          ]
        }
      ]
    },
    {
      "cell_type": "markdown",
      "source": [
        "**Transformando Scores em Labels:**\n",
        "\n",
        "4-5: Positivo [1]\n",
        "\n",
        "1-2: Negativo [0]"
      ],
      "metadata": {
        "id": "iQcz5RSHh97E"
      }
    },
    {
      "cell_type": "code",
      "source": [
        "for i, n in enumerate(score):\n",
        "  if n >3:\n",
        "    score[i] = 1 ##Positivo\n",
        "  else:\n",
        "    score[i] = 0 ##Negativo\n"
      ],
      "metadata": {
        "id": "mxzOy6ICh8PP"
      },
      "execution_count": 250,
      "outputs": []
    },
    {
      "cell_type": "markdown",
      "source": [
        "**Visualização dos Dados pós processados**"
      ],
      "metadata": {
        "id": "us-qR7D0DT57"
      }
    },
    {
      "cell_type": "markdown",
      "source": [
        "Distribuição Positivo x Negativo"
      ],
      "metadata": {
        "id": "AMFS0YjDF5h7"
      }
    },
    {
      "cell_type": "code",
      "source": [
        "score_tag = []\n",
        "\n",
        "for i in score:\n",
        "  if i  == 1:\n",
        "    score_tag.append('Positivo')\n",
        "  else:\n",
        "    score_tag.append('Negativo')\n",
        "\n",
        "\n",
        "x = score_tag\n",
        "plt.hist(x, range=(0,1))\n",
        "plt.show()"
      ],
      "metadata": {
        "colab": {
          "base_uri": "https://localhost:8080/",
          "height": 265
        },
        "id": "kh6TSN77DZH0",
        "outputId": "fe686e42-9248-4226-ecfe-9771b2d08bdd"
      },
      "execution_count": 251,
      "outputs": [
        {
          "output_type": "display_data",
          "data": {
            "image/png": "[encoded data removed]",
            "text/plain": [
              "<Figure size 432x288 with 1 Axes>"
            ]
          },
          "metadata": {
            "needs_background": "light"
          }
        }
      ]
    },
    {
      "cell_type": "markdown",
      "source": [
        "Tamanho das Reviews\n",
        "\n"
      ],
      "metadata": {
        "id": "qGzK2EVQF9oh"
      }
    },
    {
      "cell_type": "code",
      "source": [
        "review_len = []\n",
        "\n",
        "for rv in reviews:\n",
        "  split_rv = rv.split(' ')\n",
        "  review_size = len(split_rv)\n",
        "  review_len.append(review_size)\n",
        "\n",
        "idx = randrange(data_size)\n",
        "print(reviews[idx], review_len[idx])\n",
        "\n",
        "x = review_len\n",
        "plt.hist(x, bins = 25, range=(1,50))\n",
        "plt.show()"
      ],
      "metadata": {
        "colab": {
          "base_uri": "https://localhost:8080/",
          "height": 282
        },
        "id": "Lox_R9X2Fyuc",
        "outputId": "f957c158-918a-4487-916f-4fdf91df92c1"
      },
      "execution_count": 252,
      "outputs": [
        {
          "output_type": "stream",
          "name": "stdout",
          "text": [
            "mercadoria foi enviada errada conforme o pedido  palheta fiat uno 93   trazeira  enviaram a dianteira  já pedi informação de como trocar  até agora não me informaram 32\n"
          ]
        },
        {
          "output_type": "display_data",
          "data": {
            "image/png": "[encoded data removed]",
            "text/plain": [
              "<Figure size 432x288 with 1 Axes>"
            ]
          },
          "metadata": {
            "needs_background": "light"
          }
        }
      ]
    },
    {
      "cell_type": "markdown",
      "source": [
        "Separando bases de Treino e Teste"
      ],
      "metadata": {
        "id": "ofJSbnN5YF0c"
      }
    },
    {
      "cell_type": "code",
      "source": [
        "from sklearn.model_selection import train_test_split\n",
        "\n",
        "training_sentences, testing_sentences, training_labels, testing_labels = train_test_split(reviews, score, test_size=0.2)"
      ],
      "metadata": {
        "id": "hZkvIZGgYJzg"
      },
      "execution_count": 253,
      "outputs": []
    },
    {
      "cell_type": "markdown",
      "source": [
        "Scores"
      ],
      "metadata": {
        "id": "7UxYLiusq1ei"
      }
    },
    {
      "cell_type": "code",
      "source": [
        "score_tag = []\n",
        "print('Treino')\n",
        "for i in training_labels:\n",
        "  if i  == 1:\n",
        "    score_tag.append('Positivo')\n",
        "  else:\n",
        "    score_tag.append('Negativo')\n",
        "\n",
        "x = score_tag\n",
        "plt.hist(x)\n",
        "plt.show()\n",
        "\n",
        "score_tag = []\n",
        "print('Teste')\n",
        "for i in testing_labels:\n",
        "  if i  == 1:\n",
        "    score_tag.append('Positivo')\n",
        "  else:\n",
        "    score_tag.append('Negativo')\n",
        "\n",
        "x = score_tag\n",
        "plt.hist(x)\n",
        "plt.show()"
      ],
      "metadata": {
        "colab": {
          "base_uri": "https://localhost:8080/",
          "height": 548
        },
        "id": "22Oz1Mq3ZGxK",
        "outputId": "879e4981-a34b-4137-e54f-a973ddf1a9dd"
      },
      "execution_count": 254,
      "outputs": [
        {
          "output_type": "stream",
          "name": "stdout",
          "text": [
            "Treino\n"
          ]
        },
        {
          "output_type": "display_data",
          "data": {
            "image/png": "[encoded data removed]",
            "text/plain": [
              "<Figure size 432x288 with 1 Axes>"
            ]
          },
          "metadata": {
            "needs_background": "light"
          }
        },
        {
          "output_type": "stream",
          "name": "stdout",
          "text": [
            "Teste\n"
          ]
        },
        {
          "output_type": "display_data",
          "data": {
            "image/png": "[encoded data removed]",
            "text/plain": [
              "<Figure size 432x288 with 1 Axes>"
            ]
          },
          "metadata": {
            "needs_background": "light"
          }
        }
      ]
    },
    {
      "cell_type": "markdown",
      "source": [
        "Tamanho das Reviews"
      ],
      "metadata": {
        "id": "96ptKHxbq3VA"
      }
    },
    {
      "cell_type": "code",
      "source": [
        "review_len = []\n",
        "print('Treino')\n",
        "for rv in training_sentences:\n",
        "  split_rv = rv.split(' ')\n",
        "  review_len.append(len(split_rv))\n",
        "\n",
        "x = review_len\n",
        "plt.hist(x, bins = 25, range=(1,50))\n",
        "plt.show()\n",
        "\n",
        "review_len = []\n",
        "print('Teste')\n",
        "for rv in testing_sentences:\n",
        "  split_rv = rv.split(' ')\n",
        "  review_len.append(len(split_rv))\n",
        "\n",
        "x = review_len\n",
        "plt.hist(x, bins = 25, range=(1,50))\n",
        "plt.show()"
      ],
      "metadata": {
        "colab": {
          "base_uri": "https://localhost:8080/",
          "height": 548
        },
        "id": "NO6v97UVZI41",
        "outputId": "c3f189e6-2910-444b-ffb3-51423abcf696"
      },
      "execution_count": 255,
      "outputs": [
        {
          "output_type": "stream",
          "name": "stdout",
          "text": [
            "Treino\n"
          ]
        },
        {
          "output_type": "display_data",
          "data": {
            "image/png": "[encoded data removed]",
            "text/plain": [
              "<Figure size 432x288 with 1 Axes>"
            ]
          },
          "metadata": {
            "needs_background": "light"
          }
        },
        {
          "output_type": "stream",
          "name": "stdout",
          "text": [
            "Teste\n"
          ]
        },
        {
          "output_type": "display_data",
          "data": {
            "image/png": "[encoded data removed]",
            "text/plain": [
              "<Figure size 432x288 with 1 Axes>"
            ]
          },
          "metadata": {
            "needs_background": "light"
          }
        }
      ]
    },
    {
      "cell_type": "markdown",
      "source": [
        "**Tensorflow Libraries**"
      ],
      "metadata": {
        "id": "aCfYIQID9RMH"
      }
    },
    {
      "cell_type": "code",
      "source": [
        "import tensorflow as tf\n",
        "from tensorflow import keras\n",
        "from keras.callbacks import EarlyStopping\n",
        "\n",
        "from tensorflow.keras.preprocessing.text import Tokenizer\n",
        "from tensorflow.keras.preprocessing.sequence import pad_sequences\n",
        "\n",
        "from tensorflow.keras.models import Sequential"
      ],
      "metadata": {
        "id": "6HV8B7-49O0M"
      },
      "execution_count": 256,
      "outputs": []
    },
    {
      "cell_type": "markdown",
      "source": [
        "**Tokenização**\n",
        "\n",
        "Dividindo as sentenças em palavras (tokens) e atribuindo um valor numérico"
      ],
      "metadata": {
        "id": "kqYyPtVSyu7q"
      }
    },
    {
      "cell_type": "code",
      "execution_count": 257,
      "metadata": {
        "id": "jFFBa8tYoriQ",
        "colab": {
          "base_uri": "https://localhost:8080/"
        },
        "outputId": "30ed451b-6ce7-4de1-f3a9-bdd324186212"
      },
      "outputs": [
        {
          "output_type": "stream",
          "name": "stdout",
          "text": [
            "34234\n"
          ]
        }
      ],
      "source": [
        "## Tokenizer se aplica apenas a base de Treino\n",
        "tokenizer = Tokenizer(num_words=5000, oov_token=\"<OOV>\")\n",
        "tokenizer.fit_on_texts(training_sentences)\n",
        "word_index = tokenizer.word_index\n",
        "print(len(word_index))"
      ]
    },
    {
      "cell_type": "markdown",
      "source": [
        "Padding e criação das Sequências"
      ],
      "metadata": {
        "id": "DqgOmbqkyyeS"
      }
    },
    {
      "cell_type": "code",
      "source": [
        "training_sequences = tokenizer.texts_to_sequences(training_sentences)\n",
        "training_padded = pad_sequences(training_sequences, padding='post', maxlen=50)\n",
        "\n",
        "testing_sequences = tokenizer.texts_to_sequences(testing_sentences)\n",
        "testing_padded = pad_sequences(testing_sequences, padding='post', maxlen=50)\n"
      ],
      "metadata": {
        "id": "KDkAtvr68558"
      },
      "execution_count": 258,
      "outputs": []
    },
    {
      "cell_type": "markdown",
      "source": [
        "Visualizando as Sequências"
      ],
      "metadata": {
        "id": "e2zptiDUrEn5"
      }
    },
    {
      "cell_type": "code",
      "source": [
        "keys = list(word_index.keys())\n",
        "values = list(word_index.values())\n",
        "\n",
        "idx = randrange(len(training_sequences))\n",
        "\n",
        "ex_sentence = ''\n",
        "\n",
        "for i in training_sequences[idx]:\n",
        "  ex_sentence += ' ' + keys[values.index(i)]\n",
        "\n",
        "print(ex_sentence, training_labels[idx])\n"
      ],
      "metadata": {
        "colab": {
          "base_uri": "https://localhost:8080/"
        },
        "id": "rfctjSEwLiBu",
        "outputId": "cc29e7d4-20c2-4662-c15c-36b031b53307"
      },
      "execution_count": 265,
      "outputs": [
        {
          "output_type": "stream",
          "name": "stdout",
          "text": [
            " adorei e fica bem <OOV> para o ambiente recomendo 1\n"
          ]
        }
      ]
    },
    {
      "cell_type": "markdown",
      "source": [
        "Formatação para Treinamento"
      ],
      "metadata": {
        "id": "H34GIMCcbcZS"
      }
    },
    {
      "cell_type": "code",
      "source": [
        "import numpy as np\n",
        "\n",
        "training_padded = np.array(training_padded)\n",
        "training_labels = np.array(training_labels)\n",
        "testing_padded = np.array(testing_padded)\n",
        "testing_labels = np.array(testing_labels)"
      ],
      "metadata": {
        "id": "Ymd79pLGbYLf"
      },
      "execution_count": 266,
      "outputs": []
    },
    {
      "cell_type": "markdown",
      "source": [
        "Criação do Modelo"
      ],
      "metadata": {
        "id": "HMDzJ6pWrHau"
      }
    },
    {
      "cell_type": "code",
      "source": [
        "vocab_size = 5000\n",
        "embedding_dim = 16\n",
        "max_length = 50\n",
        "model = tf.keras.Sequential([\n",
        "    tf.keras.layers.Embedding(vocab_size, embedding_dim, input_length=max_length),\n",
        "    tf.keras.layers.GlobalAveragePooling1D(),\n",
        "    tf.keras.layers.Dense(24, \n",
        "                          kernel_regularizer=tf.keras.regularizers.l1(0.01), \n",
        "                          activity_regularizer=tf.keras.regularizers.l2(0.01),\n",
        "                          activation='relu'),\n",
        "    tf.keras.layers.Dense(1, activation='sigmoid')\n",
        "])\n",
        "\n",
        "model.compile(loss='binary_crossentropy',optimizer='adam', metrics=['accuracy'])\n",
        "model.summary()"
      ],
      "metadata": {
        "id": "tG2qhkYFZPcn",
        "colab": {
          "base_uri": "https://localhost:8080/"
        },
        "outputId": "bb31ae8c-05c1-4d4c-c1da-e070696a251a"
      },
      "execution_count": 293,
      "outputs": [
        {
          "output_type": "stream",
          "name": "stdout",
          "text": [
            "Model: \"sequential_15\"\n",
            "_________________________________________________________________\n",
            " Layer (type)                Output Shape              Param #   \n",
            "=================================================================\n",
            " embedding_15 (Embedding)    (None, 50, 16)            80000     \n",
            "                                                                 \n",
            " global_average_pooling1d_15  (None, 16)               0         \n",
            "  (GlobalAveragePooling1D)                                       \n",
            "                                                                 \n",
            " dense_30 (Dense)            (None, 24)                408       \n",
            "                                                                 \n",
            " dense_31 (Dense)            (None, 1)                 25        \n",
            "                                                                 \n",
            "=================================================================\n",
            "Total params: 80,433\n",
            "Trainable params: 80,433\n",
            "Non-trainable params: 0\n",
            "_________________________________________________________________\n"
          ]
        }
      ]
    },
    {
      "cell_type": "markdown",
      "source": [
        "Treinamento"
      ],
      "metadata": {
        "id": "YovTwWEerMBi"
      }
    },
    {
      "cell_type": "code",
      "source": [
        "num_epochs = 100\n",
        "es = EarlyStopping(monitor='val_loss', patience = 10, restore_best_weights=True, verbose=1)\n",
        "history = model.fit(training_padded, training_labels, epochs=num_epochs, validation_data=(testing_padded, testing_labels), verbose=1, callbacks=[es])"
      ],
      "metadata": {
        "colab": {
          "base_uri": "https://localhost:8080/"
        },
        "id": "vO5vnMfHboDz",
        "outputId": "f3a9f242-da14-4a8c-f328-d41da977c1ff"
      },
      "execution_count": 294,
      "outputs": [
        {
          "output_type": "stream",
          "name": "stdout",
          "text": [
            "Epoch 1/100\n",
            "2581/2581 [==============================] - 9s 3ms/step - loss: 0.4866 - accuracy: 0.8294 - val_loss: 0.3040 - val_accuracy: 0.9220\n",
            "Epoch 2/100\n",
            "2581/2581 [==============================] - 8s 3ms/step - loss: 0.2718 - accuracy: 0.9297 - val_loss: 0.2452 - val_accuracy: 0.9335\n",
            "Epoch 3/100\n",
            "2581/2581 [==============================] - 8s 3ms/step - loss: 0.2298 - accuracy: 0.9402 - val_loss: 0.2185 - val_accuracy: 0.9371\n",
            "Epoch 4/100\n",
            "2581/2581 [==============================] - 8s 3ms/step - loss: 0.2070 - accuracy: 0.9455 - val_loss: 0.2014 - val_accuracy: 0.9420\n",
            "Epoch 5/100\n",
            "2581/2581 [==============================] - 9s 3ms/step - loss: 0.1923 - accuracy: 0.9490 - val_loss: 0.1915 - val_accuracy: 0.9437\n",
            "Epoch 6/100\n",
            "2581/2581 [==============================] - 8s 3ms/step - loss: 0.1821 - accuracy: 0.9510 - val_loss: 0.1849 - val_accuracy: 0.9438\n",
            "Epoch 7/100\n",
            "2581/2581 [==============================] - 8s 3ms/step - loss: 0.1744 - accuracy: 0.9528 - val_loss: 0.1799 - val_accuracy: 0.9448\n",
            "Epoch 8/100\n",
            "2581/2581 [==============================] - 8s 3ms/step - loss: 0.1681 - accuracy: 0.9539 - val_loss: 0.1753 - val_accuracy: 0.9465\n",
            "Epoch 9/100\n",
            "2581/2581 [==============================] - 8s 3ms/step - loss: 0.1630 - accuracy: 0.9550 - val_loss: 0.1715 - val_accuracy: 0.9466\n",
            "Epoch 10/100\n",
            "2581/2581 [==============================] - 8s 3ms/step - loss: 0.1585 - accuracy: 0.9563 - val_loss: 0.1697 - val_accuracy: 0.9461\n",
            "Epoch 11/100\n",
            "2581/2581 [==============================] - 8s 3ms/step - loss: 0.1550 - accuracy: 0.9564 - val_loss: 0.1667 - val_accuracy: 0.9464\n",
            "Epoch 12/100\n",
            "2581/2581 [==============================] - 8s 3ms/step - loss: 0.1519 - accuracy: 0.9572 - val_loss: 0.1660 - val_accuracy: 0.9486\n",
            "Epoch 13/100\n",
            "2581/2581 [==============================] - 8s 3ms/step - loss: 0.1491 - accuracy: 0.9581 - val_loss: 0.1633 - val_accuracy: 0.9476\n",
            "Epoch 14/100\n",
            "2581/2581 [==============================] - 8s 3ms/step - loss: 0.1466 - accuracy: 0.9587 - val_loss: 0.1622 - val_accuracy: 0.9476\n",
            "Epoch 15/100\n",
            "2581/2581 [==============================] - 8s 3ms/step - loss: 0.1444 - accuracy: 0.9589 - val_loss: 0.1606 - val_accuracy: 0.9478\n",
            "Epoch 16/100\n",
            "2581/2581 [==============================] - 8s 3ms/step - loss: 0.1423 - accuracy: 0.9597 - val_loss: 0.1601 - val_accuracy: 0.9488\n",
            "Epoch 17/100\n",
            "2581/2581 [==============================] - 8s 3ms/step - loss: 0.1404 - accuracy: 0.9598 - val_loss: 0.1601 - val_accuracy: 0.9475\n",
            "Epoch 18/100\n",
            "2581/2581 [==============================] - 8s 3ms/step - loss: 0.1388 - accuracy: 0.9601 - val_loss: 0.1589 - val_accuracy: 0.9482\n",
            "Epoch 19/100\n",
            "2581/2581 [==============================] - 8s 3ms/step - loss: 0.1372 - accuracy: 0.9612 - val_loss: 0.1582 - val_accuracy: 0.9477\n",
            "Epoch 20/100\n",
            "2581/2581 [==============================] - 8s 3ms/step - loss: 0.1358 - accuracy: 0.9612 - val_loss: 0.1582 - val_accuracy: 0.9478\n",
            "Epoch 21/100\n",
            "2581/2581 [==============================] - 8s 3ms/step - loss: 0.1345 - accuracy: 0.9612 - val_loss: 0.1599 - val_accuracy: 0.9480\n",
            "Epoch 22/100\n",
            "2581/2581 [==============================] - 8s 3ms/step - loss: 0.1332 - accuracy: 0.9618 - val_loss: 0.1581 - val_accuracy: 0.9472\n",
            "Epoch 23/100\n",
            "2581/2581 [==============================] - 9s 3ms/step - loss: 0.1320 - accuracy: 0.9621 - val_loss: 0.1572 - val_accuracy: 0.9471\n",
            "Epoch 24/100\n",
            "2581/2581 [==============================] - 8s 3ms/step - loss: 0.1311 - accuracy: 0.9625 - val_loss: 0.1568 - val_accuracy: 0.9474\n",
            "Epoch 25/100\n",
            "2581/2581 [==============================] - 8s 3ms/step - loss: 0.1300 - accuracy: 0.9626 - val_loss: 0.1584 - val_accuracy: 0.9471\n",
            "Epoch 26/100\n",
            "2581/2581 [==============================] - 8s 3ms/step - loss: 0.1290 - accuracy: 0.9629 - val_loss: 0.1568 - val_accuracy: 0.9469\n",
            "Epoch 27/100\n",
            "2581/2581 [==============================] - 8s 3ms/step - loss: 0.1279 - accuracy: 0.9629 - val_loss: 0.1577 - val_accuracy: 0.9468\n",
            "Epoch 28/100\n",
            "2581/2581 [==============================] - 8s 3ms/step - loss: 0.1273 - accuracy: 0.9630 - val_loss: 0.1571 - val_accuracy: 0.9470\n",
            "Epoch 29/100\n",
            "2581/2581 [==============================] - 8s 3ms/step - loss: 0.1263 - accuracy: 0.9632 - val_loss: 0.1588 - val_accuracy: 0.9479\n",
            "Epoch 30/100\n",
            "2581/2581 [==============================] - 9s 3ms/step - loss: 0.1257 - accuracy: 0.9634 - val_loss: 0.1568 - val_accuracy: 0.9476\n",
            "Epoch 31/100\n",
            "2581/2581 [==============================] - 8s 3ms/step - loss: 0.1249 - accuracy: 0.9636 - val_loss: 0.1570 - val_accuracy: 0.9464\n",
            "Epoch 32/100\n",
            "2581/2581 [==============================] - 8s 3ms/step - loss: 0.1241 - accuracy: 0.9642 - val_loss: 0.1577 - val_accuracy: 0.9464\n",
            "Epoch 33/100\n",
            "2581/2581 [==============================] - 8s 3ms/step - loss: 0.1234 - accuracy: 0.9640 - val_loss: 0.1573 - val_accuracy: 0.9466\n",
            "Epoch 34/100\n",
            "2581/2581 [==============================] - 8s 3ms/step - loss: 0.1229 - accuracy: 0.9643 - val_loss: 0.1577 - val_accuracy: 0.9476\n",
            "Epoch 35/100\n",
            "2581/2581 [==============================] - 8s 3ms/step - loss: 0.1223 - accuracy: 0.9647 - val_loss: 0.1594 - val_accuracy: 0.9459\n",
            "Epoch 36/100\n",
            "2581/2581 [==============================] - 8s 3ms/step - loss: 0.1216 - accuracy: 0.9648 - val_loss: 0.1580 - val_accuracy: 0.9474\n",
            "Epoch 37/100\n",
            "2581/2581 [==============================] - 9s 3ms/step - loss: 0.1210 - accuracy: 0.9649 - val_loss: 0.1584 - val_accuracy: 0.9462\n",
            "Epoch 38/100\n",
            "2581/2581 [==============================] - 9s 3ms/step - loss: 0.1203 - accuracy: 0.9648 - val_loss: 0.1584 - val_accuracy: 0.9472\n",
            "Epoch 39/100\n",
            "2581/2581 [==============================] - 9s 3ms/step - loss: 0.1199 - accuracy: 0.9651 - val_loss: 0.1563 - val_accuracy: 0.9470\n",
            "Epoch 40/100\n",
            "2581/2581 [==============================] - 8s 3ms/step - loss: 0.1193 - accuracy: 0.9652 - val_loss: 0.1597 - val_accuracy: 0.9460\n",
            "Epoch 41/100\n",
            "2581/2581 [==============================] - 8s 3ms/step - loss: 0.1192 - accuracy: 0.9649 - val_loss: 0.1570 - val_accuracy: 0.9468\n",
            "Epoch 42/100\n",
            "2581/2581 [==============================] - 8s 3ms/step - loss: 0.1185 - accuracy: 0.9652 - val_loss: 0.1594 - val_accuracy: 0.9469\n",
            "Epoch 43/100\n",
            "2581/2581 [==============================] - 8s 3ms/step - loss: 0.1182 - accuracy: 0.9652 - val_loss: 0.1584 - val_accuracy: 0.9462\n",
            "Epoch 44/100\n",
            "2581/2581 [==============================] - 8s 3ms/step - loss: 0.1177 - accuracy: 0.9655 - val_loss: 0.1612 - val_accuracy: 0.9454\n",
            "Epoch 45/100\n",
            "2581/2581 [==============================] - 8s 3ms/step - loss: 0.1173 - accuracy: 0.9655 - val_loss: 0.1602 - val_accuracy: 0.9454\n",
            "Epoch 46/100\n",
            "2581/2581 [==============================] - 8s 3ms/step - loss: 0.1169 - accuracy: 0.9658 - val_loss: 0.1585 - val_accuracy: 0.9456\n",
            "Epoch 47/100\n",
            "2581/2581 [==============================] - 8s 3ms/step - loss: 0.1166 - accuracy: 0.9658 - val_loss: 0.1595 - val_accuracy: 0.9456\n",
            "Epoch 48/100\n",
            "2581/2581 [==============================] - 8s 3ms/step - loss: 0.1160 - accuracy: 0.9659 - val_loss: 0.1583 - val_accuracy: 0.9454\n",
            "Epoch 49/100\n",
            "2574/2581 [============================>.] - ETA: 0s - loss: 0.1157 - accuracy: 0.9662Restoring model weights from the end of the best epoch: 39.\n",
            "2581/2581 [==============================] - 8s 3ms/step - loss: 0.1156 - accuracy: 0.9662 - val_loss: 0.1590 - val_accuracy: 0.9461\n",
            "Epoch 00049: early stopping\n"
          ]
        }
      ]
    },
    {
      "cell_type": "markdown",
      "source": [
        "Desempenho do modelo"
      ],
      "metadata": {
        "id": "i3GkorVirTu2"
      }
    },
    {
      "cell_type": "code",
      "source": [
        "def plot_graphs(history, string):\n",
        "  plt.plot(history.history[string])\n",
        "  plt.plot(history.history['val_'+string])\n",
        "  plt.xlabel(\"Epochs\")\n",
        "  plt.ylabel(string)\n",
        "  plt.legend([string, 'val_'+string])\n",
        "  plt.show()\n",
        "  \n",
        "plot_graphs(history, \"accuracy\")\n",
        "plot_graphs(history, \"loss\")"
      ],
      "metadata": {
        "colab": {
          "base_uri": "https://localhost:8080/",
          "height": 543
        },
        "id": "3Axnh3FpiPSw",
        "outputId": "1e67267b-bd5d-46cb-d2a1-2d63ace9743c"
      },
      "execution_count": 295,
      "outputs": [
        {
          "output_type": "display_data",
          "data": {
            "image/png": "[encoded data removed]",
            "text/plain": [
              "<Figure size 432x288 with 1 Axes>"
            ]
          },
          "metadata": {
            "needs_background": "light"
          }
        },
        {
          "output_type": "display_data",
          "data": {
            "image/png": "[encoded data removed]",
            "text/plain": [
              "<Figure size 432x288 with 1 Axes>"
            ]
          },
          "metadata": {
            "needs_background": "light"
          }
        }
      ]
    },
    {
      "cell_type": "markdown",
      "source": [
        "Predição"
      ],
      "metadata": {
        "id": "HJuFPpXnrdUK"
      }
    },
    {
      "cell_type": "code",
      "source": [
        "sample_sentences = list(predict_sample['review_text'])\n",
        "sample_scores = list(predict_sample['overall_rating'])\n",
        "\n",
        "sequences = tokenizer.texts_to_sequences(sample_sentences)\n",
        "padded = pad_sequences(sequences, padding='post', maxlen=50,truncating='post')\n",
        "\n",
        "predictions = model.predict(padded)\n",
        "\n",
        "idx = randrange(len(sample_sentences))\n",
        "\n",
        "pred = predictions[idx]\n",
        "sentence = sample_sentences[idx]\n",
        "score = sample_scores[idx]\n",
        "\n",
        "print(sentence, score, pred)"
      ],
      "metadata": {
        "colab": {
          "base_uri": "https://localhost:8080/"
        },
        "id": "RuiA8-czKIrR",
        "outputId": "c7215cee-da3e-41cc-b316-f8786b13e78f"
      },
      "execution_count": 296,
      "outputs": [
        {
          "output_type": "stream",
          "name": "stdout",
          "text": [
            "quebrou o recipiente do aspirador com menos de um mês de uso. 1 [0.04674891]\n"
          ]
        }
      ]
    },
    {
      "cell_type": "markdown",
      "source": [
        "**Outliers**"
      ],
      "metadata": {
        "id": "u2Mx4rMnYwEW"
      }
    },
    {
      "cell_type": "code",
      "source": [
        "outliers = []\n",
        "\n",
        "for lines in range(len(predictions)):\n",
        "    s = sample_scores[lines]\n",
        "    p = predictions[lines]\n",
        "    st = sample_sentences[lines]\n",
        "\n",
        "    if s>3:\n",
        "      if p<0.5:\n",
        "        outliers.append([st, s, p[0]])\n",
        "    else:\n",
        "      if p>0.5:\n",
        "        outliers.append([st, s, p[0]])\n",
        "\n",
        "print(len(outliers))\n",
        "\n",
        "idx = randrange(len(outliers))\n",
        "\n",
        "print(outliers[idx][0],outliers[idx][1],outliers[idx][2])\n"
      ],
      "metadata": {
        "colab": {
          "base_uri": "https://localhost:8080/"
        },
        "id": "hvYfUO-EiPov",
        "outputId": "9884f6b0-10d2-41e9-8b60-d567f71194e5"
      },
      "execution_count": 300,
      "outputs": [
        {
          "output_type": "stream",
          "name": "stdout",
          "text": [
            "59\n",
            "Não comprem , os boletos são falsos , não sei como a americanas deixa isso acontecer , várias pessoas já foram levadas. 5 0.07711354\n"
          ]
        }
      ]
    }
  ]
}